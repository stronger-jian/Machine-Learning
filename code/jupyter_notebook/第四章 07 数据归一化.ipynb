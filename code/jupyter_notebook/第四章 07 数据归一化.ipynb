{
 "cells": [
  {
   "cell_type": "markdown",
   "metadata": {},
   "source": [
    "## 数据归一化：将所有数据映射到同一尺度"
   ]
  },
  {
   "cell_type": "markdown",
   "metadata": {},
   "source": [
    "### normalization最值归一化：把所有数据映射到0-1之间"
   ]
  },
  {
   "cell_type": "code",
   "execution_count": 1,
   "metadata": {},
   "outputs": [],
   "source": [
    "import numpy as np\n",
    "import matplotlib.pyplot as plt"
   ]
  },
  {
   "cell_type": "code",
   "execution_count": 2,
   "metadata": {},
   "outputs": [
    {
     "data": {
      "text/plain": [
       "array([ 7, 16, 26, 77, 68, 50, 73, 67, 52,  3, 44, 56, 28, 70, 11, 15, 56,\n",
       "       84, 55, 24, 42, 28, 36, 36, 91, 49, 97, 61, 65, 11,  7, 61, 53,  6,\n",
       "       15, 88, 38, 27, 58,  3, 27, 57, 49, 20, 18, 68, 77,  8, 36, 28, 20,\n",
       "       35, 83, 83, 92, 36, 84, 12, 83, 55, 63, 14, 79, 58, 30,  6, 78, 68,\n",
       "       27,  9, 67, 50, 79, 66, 72, 10, 44,  1, 42, 30, 67, 76, 76, 17, 72,\n",
       "       12, 80, 22, 32, 63, 81, 22, 12,  6, 52, 27, 75, 32, 58, 48])"
      ]
     },
     "execution_count": 2,
     "metadata": {},
     "output_type": "execute_result"
    }
   ],
   "source": [
    "x=np.random.randint(1,100,100)\n",
    "x"
   ]
  },
  {
   "cell_type": "code",
   "execution_count": 3,
   "metadata": {},
   "outputs": [
    {
     "data": {
      "text/plain": [
       "array([0.0625    , 0.15625   , 0.26041667, 0.79166667, 0.69791667,\n",
       "       0.51041667, 0.75      , 0.6875    , 0.53125   , 0.02083333,\n",
       "       0.44791667, 0.57291667, 0.28125   , 0.71875   , 0.10416667,\n",
       "       0.14583333, 0.57291667, 0.86458333, 0.5625    , 0.23958333,\n",
       "       0.42708333, 0.28125   , 0.36458333, 0.36458333, 0.9375    ,\n",
       "       0.5       , 1.        , 0.625     , 0.66666667, 0.10416667,\n",
       "       0.0625    , 0.625     , 0.54166667, 0.05208333, 0.14583333,\n",
       "       0.90625   , 0.38541667, 0.27083333, 0.59375   , 0.02083333,\n",
       "       0.27083333, 0.58333333, 0.5       , 0.19791667, 0.17708333,\n",
       "       0.69791667, 0.79166667, 0.07291667, 0.36458333, 0.28125   ,\n",
       "       0.19791667, 0.35416667, 0.85416667, 0.85416667, 0.94791667,\n",
       "       0.36458333, 0.86458333, 0.11458333, 0.85416667, 0.5625    ,\n",
       "       0.64583333, 0.13541667, 0.8125    , 0.59375   , 0.30208333,\n",
       "       0.05208333, 0.80208333, 0.69791667, 0.27083333, 0.08333333,\n",
       "       0.6875    , 0.51041667, 0.8125    , 0.67708333, 0.73958333,\n",
       "       0.09375   , 0.44791667, 0.        , 0.42708333, 0.30208333,\n",
       "       0.6875    , 0.78125   , 0.78125   , 0.16666667, 0.73958333,\n",
       "       0.11458333, 0.82291667, 0.21875   , 0.32291667, 0.64583333,\n",
       "       0.83333333, 0.21875   , 0.11458333, 0.05208333, 0.53125   ,\n",
       "       0.27083333, 0.77083333, 0.32291667, 0.59375   , 0.48958333])"
      ]
     },
     "execution_count": 3,
     "metadata": {},
     "output_type": "execute_result"
    }
   ],
   "source": [
    "(x - np.min(x)) / (np.max(x)-np.min(x))"
   ]
  },
  {
   "cell_type": "code",
   "execution_count": 6,
   "metadata": {},
   "outputs": [],
   "source": [
    "X=np.random.randint(0,100,(50,2))"
   ]
  },
  {
   "cell_type": "code",
   "execution_count": 7,
   "metadata": {},
   "outputs": [
    {
     "data": {
      "text/plain": [
       "array([[56, 93],\n",
       "       [37, 27],\n",
       "       [22, 25],\n",
       "       [20, 59],\n",
       "       [88, 60],\n",
       "       [93, 55],\n",
       "       [80, 99],\n",
       "       [29, 74],\n",
       "       [82, 37],\n",
       "       [31, 88]])"
      ]
     },
     "execution_count": 7,
     "metadata": {},
     "output_type": "execute_result"
    }
   ],
   "source": [
    "X[:10,:]"
   ]
  },
  {
   "cell_type": "code",
   "execution_count": 8,
   "metadata": {},
   "outputs": [],
   "source": [
    "X=np.array(X, dtype=float)"
   ]
  },
  {
   "cell_type": "code",
   "execution_count": 9,
   "metadata": {},
   "outputs": [
    {
     "data": {
      "text/plain": [
       "array([[56., 93.],\n",
       "       [37., 27.],\n",
       "       [22., 25.],\n",
       "       [20., 59.],\n",
       "       [88., 60.],\n",
       "       [93., 55.],\n",
       "       [80., 99.],\n",
       "       [29., 74.],\n",
       "       [82., 37.],\n",
       "       [31., 88.]])"
      ]
     },
     "execution_count": 9,
     "metadata": {},
     "output_type": "execute_result"
    }
   ],
   "source": [
    "X[:10,:]"
   ]
  },
  {
   "cell_type": "code",
   "execution_count": 14,
   "metadata": {},
   "outputs": [],
   "source": [
    "X[:,0]=((X[:,0]-np.min(X[:,0])) / (np.max(X[:,0])-np.min(X[:,0])))"
   ]
  },
  {
   "cell_type": "code",
   "execution_count": 15,
   "metadata": {},
   "outputs": [
    {
     "data": {
      "text/plain": [
       "array([0.57446809, 0.37234043, 0.21276596, 0.19148936, 0.91489362,\n",
       "       0.96808511, 0.82978723, 0.28723404, 0.85106383, 0.30851064])"
      ]
     },
     "execution_count": 15,
     "metadata": {},
     "output_type": "execute_result"
    }
   ],
   "source": [
    "X[:10,0]"
   ]
  },
  {
   "cell_type": "code",
   "execution_count": 16,
   "metadata": {},
   "outputs": [],
   "source": [
    "X[:,1]=((X[:,1]-np.min(X[:,1])) / (np.max(X[:,1])-np.min(X[:,1])))"
   ]
  },
  {
   "cell_type": "code",
   "execution_count": 17,
   "metadata": {},
   "outputs": [
    {
     "data": {
      "text/plain": [
       "array([0.93814433, 0.25773196, 0.2371134 , 0.58762887, 0.59793814,\n",
       "       0.54639175, 1.        , 0.74226804, 0.36082474, 0.88659794])"
      ]
     },
     "execution_count": 17,
     "metadata": {},
     "output_type": "execute_result"
    }
   ],
   "source": [
    "X[:10,1]"
   ]
  },
  {
   "cell_type": "code",
   "execution_count": 19,
   "metadata": {},
   "outputs": [
    {
     "data": {
      "text/plain": [
       "<matplotlib.collections.PathCollection at 0xb278610>"
      ]
     },
     "execution_count": 19,
     "metadata": {},
     "output_type": "execute_result"
    },
    {
     "data": {
      "image/png": "[encoded data removed]",
      "text/plain": [
       "<Figure size 432x288 with 1 Axes>"
      ]
     },
     "metadata": {},
     "output_type": "display_data"
    }
   ],
   "source": [
    "plt.scatter(X[:,0],X[:,1])"
   ]
  },
  {
   "cell_type": "code",
   "execution_count": 20,
   "metadata": {},
   "outputs": [
    {
     "data": {
      "text/plain": [
       "0.5238297872340425"
      ]
     },
     "execution_count": 20,
     "metadata": {},
     "output_type": "execute_result"
    }
   ],
   "source": [
    "np.mean(X[:,0])"
   ]
  },
  {
   "cell_type": "code",
   "execution_count": 21,
   "metadata": {},
   "outputs": [
    {
     "data": {
      "text/plain": [
       "0.28223835317621443"
      ]
     },
     "execution_count": 21,
     "metadata": {},
     "output_type": "execute_result"
    }
   ],
   "source": [
    "np.std(X[:,0])"
   ]
  },
  {
   "cell_type": "code",
   "execution_count": 22,
   "metadata": {},
   "outputs": [
    {
     "data": {
      "text/plain": [
       "0.5426804123711341"
      ]
     },
     "execution_count": 22,
     "metadata": {},
     "output_type": "execute_result"
    }
   ],
   "source": [
    "np.mean(X[:,1])"
   ]
  },
  {
   "cell_type": "code",
   "execution_count": 23,
   "metadata": {},
   "outputs": [
    {
     "data": {
      "text/plain": [
       "0.3124426443273402"
      ]
     },
     "execution_count": 23,
     "metadata": {},
     "output_type": "execute_result"
    }
   ],
   "source": [
    "np.std(X[:,1])"
   ]
  },
  {
   "cell_type": "markdown",
   "metadata": {},
   "source": [
    "## standardization均值方差归一化"
   ]
  },
  {
   "cell_type": "markdown",
   "metadata": {},
   "source": [
    "### 适用于数据分布无明显边界，有可能存在极端数据"
   ]
  },
  {
   "cell_type": "code",
   "execution_count": 24,
   "metadata": {},
   "outputs": [],
   "source": [
    "X2=np.random.randint(1,100,(50,2))"
   ]
  },
  {
   "cell_type": "code",
   "execution_count": 25,
   "metadata": {},
   "outputs": [],
   "source": [
    "X2=np.array(X2, dtype=float)"
   ]
  },
  {
   "cell_type": "code",
   "execution_count": 26,
   "metadata": {},
   "outputs": [],
   "source": [
    "X2[:,0]=((X2[:,0]-np.mean(X2[:,0])) / np.std(X2[:,0]))"
   ]
  },
  {
   "cell_type": "code",
   "execution_count": 27,
   "metadata": {},
   "outputs": [],
   "source": [
    "X2[:,1]=((X2[:,1]-np.mean(X2[:,1])) / np.std(X2[:,1]))"
   ]
  },
  {
   "cell_type": "code",
   "execution_count": 28,
   "metadata": {},
   "outputs": [
    {
     "data": {
      "text/plain": [
       "<matplotlib.collections.PathCollection at 0xb2b0570>"
      ]
     },
     "execution_count": 28,
     "metadata": {},
     "output_type": "execute_result"
    },
    {
     "data": {
      "image/png": "[encoded data removed]",
      "text/plain": [
       "<Figure size 432x288 with 1 Axes>"
      ]
     },
     "metadata": {},
     "output_type": "display_data"
    }
   ],
   "source": [
    "plt.scatter(X2[:,0],X2[:,1])"
   ]
  },
  {
   "cell_type": "code",
   "execution_count": 30,
   "metadata": {},
   "outputs": [
    {
     "data": {
      "text/plain": [
       "1.3322676295501878e-17"
      ]
     },
     "execution_count": 30,
     "metadata": {},
     "output_type": "execute_result"
    }
   ],
   "source": [
    "np.mean(X2[:,0])"
   ]
  },
  {
   "cell_type": "code",
   "execution_count": 31,
   "metadata": {},
   "outputs": [
    {
     "data": {
      "text/plain": [
       "0.9999999999999999"
      ]
     },
     "execution_count": 31,
     "metadata": {},
     "output_type": "execute_result"
    }
   ],
   "source": [
    "np.std(X2[:,0])"
   ]
  },
  {
   "cell_type": "code",
   "execution_count": 32,
   "metadata": {},
   "outputs": [
    {
     "data": {
      "text/plain": [
       "-3.1086244689504386e-17"
      ]
     },
     "execution_count": 32,
     "metadata": {},
     "output_type": "execute_result"
    }
   ],
   "source": [
    "np.mean(X2[:,1])"
   ]
  },
  {
   "cell_type": "code",
   "execution_count": 33,
   "metadata": {},
   "outputs": [
    {
     "data": {
      "text/plain": [
       "1.0"
      ]
     },
     "execution_count": 33,
     "metadata": {},
     "output_type": "execute_result"
    }
   ],
   "source": [
    "np.std(X2[:,1])"
   ]
  },
  {
   "cell_type": "code",
   "execution_count": null,
   "metadata": {},
   "outputs": [],
   "source": []
  },
  {
   "cell_type": "code",
   "execution_count": null,
   "metadata": {},
   "outputs": [],
   "source": []
  }
 ],
 "metadata": {
  "kernelspec": {
   "display_name": "Python 3",
   "language": "python",
   "name": "python3"
  },
  "language_info": {
   "codemirror_mode": {
    "name": "ipython",
    "version": 3
   },
   "file_extension": ".py",
   "mimetype": "text/x-python",
   "name": "python",
   "nbconvert_exporter": "python",
   "pygments_lexer": "ipython3",
   "version": "3.7.0"
  }
 },
 "nbformat": 4,
 "nbformat_minor": 2
}
